{
 "cells": [
  {
   "cell_type": "code",
   "execution_count": 1,
   "metadata": {
    "collapsed": true
   },
   "outputs": [],
   "source": [
    "%matplotlib inline\n",
    "import numpy as np\n",
    "import pandas as pd\n",
    "import matplotlib.pyplot as plt\n",
    "import matplotlib.cm as cm\n",
    "import tensorflow as tf"
   ]
  },
  {
   "cell_type": "markdown",
   "metadata": {},
   "source": [
    "# Brief Intro to TensorFlow\n",
    "Key concepts in TensorFlow, which will be revisited and explained in the one-layer neural network below:\n",
    "* Placeholder\n",
    "* Variable\n",
    "* Operation\n",
    "* Graph\n",
    "* Session\n",
    "\n",
    "Nearly everything you see in TensorFlow falls into one or another categories."
   ]
  },
  {
   "cell_type": "markdown",
   "metadata": {},
   "source": [
    "Here is the diagram for the one-layer neural network.\n",
    "<img src=\"simple_nn.png\",width=400,height=400>"
   ]
  },
  {
   "cell_type": "markdown",
   "metadata": {},
   "source": [
    "Read MNIST data with pandas."
   ]
  },
  {
   "cell_type": "code",
   "execution_count": 2,
   "metadata": {
    "collapsed": true
   },
   "outputs": [],
   "source": [
    "train = pd.read_csv('../MNIST_data/train.csv', nrows=2000)"
   ]
  },
  {
   "cell_type": "code",
   "execution_count": 3,
   "metadata": {},
   "outputs": [
    {
     "data": {
      "text/plain": [
       "(2000, 785)"
      ]
     },
     "execution_count": 3,
     "metadata": {},
     "output_type": "execute_result"
    }
   ],
   "source": [
    "train.shape"
   ]
  },
  {
   "cell_type": "markdown",
   "metadata": {},
   "source": [
    "MNIST train dataset has 42,000 samples. Each row consists of the digit to be predicted in the first column and flattened 28x28 greysale photo into 784 columns."
   ]
  },
  {
   "cell_type": "markdown",
   "metadata": {},
   "source": [
    "Shift pixels to between -1 and 1, zero centred."
   ]
  },
  {
   "cell_type": "code",
   "execution_count": 4,
   "metadata": {
    "collapsed": true
   },
   "outputs": [],
   "source": [
    "pixels = (train.iloc[:, 1:] - 128) / 256"
   ]
  },
  {
   "cell_type": "code",
   "execution_count": 5,
   "metadata": {
    "collapsed": true
   },
   "outputs": [],
   "source": [
    "labels = train.iloc[:, 0]"
   ]
  },
  {
   "cell_type": "markdown",
   "metadata": {},
   "source": [
    "Sneak peek of the first 5 digits."
   ]
  },
  {
   "cell_type": "code",
   "execution_count": 6,
   "metadata": {},
   "outputs": [
    {
     "data": {
      "text/plain": [
       "0    1\n",
       "1    0\n",
       "2    1\n",
       "3    4\n",
       "4    0\n",
       "Name: label, dtype: int64"
      ]
     },
     "execution_count": 6,
     "metadata": {},
     "output_type": "execute_result"
    }
   ],
   "source": [
    "labels.head()"
   ]
  },
  {
   "cell_type": "code",
   "execution_count": 7,
   "metadata": {},
   "outputs": [
    {
     "data": {
      "image/png": "[encoded data removed]",
      "text/plain": [
       "<matplotlib.figure.Figure at 0x7f463a0d2438>"
      ]
     },
     "metadata": {},
     "output_type": "display_data"
    }
   ],
   "source": [
    "fig, axs = plt.subplots(nrows=1, ncols=5)\n",
    "for ax_id, ax in enumerate(axs):\n",
    "    ax.imshow(train.iloc[ax_id, 1:].values.reshape((28, 28)), cm.gray)\n",
    "    ax.set_axis_off()"
   ]
  },
  {
   "cell_type": "code",
   "execution_count": 8,
   "metadata": {},
   "outputs": [
    {
     "data": {
      "text/plain": [
       "array([[ 0.,  1.,  0.,  0.,  0.,  0.,  0.,  0.,  0.,  0.],\n",
       "       [ 1.,  0.,  0.,  0.,  0.,  0.,  0.,  0.,  0.,  0.],\n",
       "       [ 0.,  1.,  0.,  0.,  0.,  0.,  0.,  0.,  0.,  0.],\n",
       "       [ 0.,  0.,  0.,  0.,  1.,  0.,  0.,  0.,  0.,  0.],\n",
       "       [ 1.,  0.,  0.,  0.,  0.,  0.,  0.,  0.,  0.,  0.]])"
      ]
     },
     "execution_count": 8,
     "metadata": {},
     "output_type": "execute_result"
    }
   ],
   "source": [
    "label_onehot = np.zeros((pixels.shape[0], 10))\n",
    "label_onehot[list(range(pixels.shape[0])), labels] = 1\n",
    "label_onehot[:5]"
   ]
  },
  {
   "cell_type": "markdown",
   "metadata": {},
   "source": [
    "Now we come across *Placehoders*.\n",
    "\n",
    "Key fact about it is it only passes on values to next TensorFlow elements instead of storing them."
   ]
  },
  {
   "cell_type": "code",
   "execution_count": 9,
   "metadata": {
    "collapsed": true
   },
   "outputs": [],
   "source": [
    "input_pixels = tf.placeholder(tf.float32, shape=[None, 784], name='input_pixels')\n",
    "train_labels = tf.placeholder(tf.int64, shape=[None], name='train_labels')"
   ]
  },
  {
   "cell_type": "markdown",
   "metadata": {},
   "source": [
    "Next we meet *Variables* and *Operations*.\n",
    "\n",
    "Long story short:\n",
    "* Variables hold values that can be later updated and quiried upon.\n",
    "* Operations alternate TensorFlow elements."
   ]
  },
  {
   "cell_type": "code",
   "execution_count": 10,
   "metadata": {
    "collapsed": true
   },
   "outputs": [],
   "source": [
    "with tf.name_scope('hidden_layer'):\n",
    "    w1 = tf.Variable(tf.random_normal([784, 50], mean=0, stddev=1), name='w1')\n",
    "    b1 = tf.Variable(tf.zeros([50]), name='b1')\n",
    "    layer1 = tf.sigmoid(tf.matmul(input_pixels, w1) + b1)\n",
    "with tf.name_scope('output_layer'):\n",
    "    w2 = tf.Variable(tf.random_normal([50, 10], mean=0, stddev=1), name='w2')\n",
    "    b2= tf.Variable(tf.zeros([10]), name='b2')\n",
    "    logits = tf.sigmoid(tf.matmul(layer1, w2) + b2, name='logits')"
   ]
  },
  {
   "cell_type": "markdown",
   "metadata": {},
   "source": [
    "Variable w1 holds the weights between input pixels and the hidden layer.\n",
    "\n",
    "Operation tf.random_normal defines how to initialise w1. Other operations include tf.matmul, tf.sigmoid. But what is tf.name_scope?"
   ]
  },
  {
   "cell_type": "code",
   "execution_count": 11,
   "metadata": {
    "collapsed": true
   },
   "outputs": [],
   "source": [
    "train_onehot_labels = tf.one_hot(\n",
    "    indices=train_labels,\n",
    "    depth=10,\n",
    "    on_value=1,\n",
    "    off_value=0,\n",
    ")"
   ]
  },
  {
   "cell_type": "code",
   "execution_count": 12,
   "metadata": {
    "collapsed": true
   },
   "outputs": [],
   "source": [
    "with tf.name_scope('xent'):\n",
    "    cross_entropy = tf.reduce_mean(tf.nn.softmax_cross_entropy_with_logits(labels=train_onehot_labels, logits=logits))\n",
    "    tf.summary.scalar('cross_entropies', cross_entropy)"
   ]
  },
  {
   "cell_type": "markdown",
   "metadata": {},
   "source": [
    "Cross entropy minimisation is just another operation."
   ]
  },
  {
   "cell_type": "code",
   "execution_count": 13,
   "metadata": {
    "collapsed": true
   },
   "outputs": [],
   "source": [
    "with tf.name_scope('train'):\n",
    "    train_step = tf.train.AdamOptimizer(1e-4).minimize(cross_entropy, name='train_step')"
   ]
  },
  {
   "cell_type": "code",
   "execution_count": 14,
   "metadata": {
    "collapsed": true
   },
   "outputs": [],
   "source": [
    "with tf.name_scope('accurary'):\n",
    "    correct_prediction = tf.equal(tf.argmax(logits, 1), tf.argmax(train_onehot_labels, 1))\n",
    "    accuracy = tf.reduce_mean(tf.cast(correct_prediction, tf.float32), name='accuracy')\n",
    "    tf.summary.scalar('accuracies', accuracy)"
   ]
  },
  {
   "cell_type": "code",
   "execution_count": 15,
   "metadata": {
    "collapsed": true
   },
   "outputs": [],
   "source": [
    "with tf.name_scope('prediction'):\n",
    "    pred = tf.argmax(logits, 1, name='pred')"
   ]
  },
  {
   "cell_type": "code",
   "execution_count": 16,
   "metadata": {
    "collapsed": true
   },
   "outputs": [],
   "source": [
    "writer = tf.summary.FileWriter('/tmp/mnist/1')"
   ]
  },
  {
   "cell_type": "code",
   "execution_count": 17,
   "metadata": {
    "collapsed": true
   },
   "outputs": [],
   "source": [
    "init = tf.global_variables_initializer()"
   ]
  },
  {
   "cell_type": "markdown",
   "metadata": {},
   "source": [
    "**ALL** defined elements above interconnect each other, which make a *Graph*. \n",
    "\n",
    "A graph depicts the data flow from input to output.\n",
    "\n",
    "However, no real computation has ever occurred. A graph needs to be sent to computing sources cpu/gpu within a *Session* to do computation."
   ]
  },
  {
   "cell_type": "code",
   "execution_count": 18,
   "metadata": {
    "collapsed": true
   },
   "outputs": [],
   "source": [
    "sess = tf.Session()"
   ]
  },
  {
   "cell_type": "code",
   "execution_count": 19,
   "metadata": {
    "collapsed": true
   },
   "outputs": [],
   "source": [
    "writer.add_graph(sess.graph)"
   ]
  },
  {
   "cell_type": "code",
   "execution_count": 20,
   "metadata": {
    "collapsed": true
   },
   "outputs": [],
   "source": [
    "batch_size = 100"
   ]
  },
  {
   "cell_type": "markdown",
   "metadata": {},
   "source": [
    "Must initialise all variables before kicking off."
   ]
  },
  {
   "cell_type": "code",
   "execution_count": 21,
   "metadata": {
    "collapsed": true
   },
   "outputs": [],
   "source": [
    "sess.run(init)"
   ]
  },
  {
   "cell_type": "code",
   "execution_count": 22,
   "metadata": {},
   "outputs": [
    {
     "name": "stdout",
     "output_type": "stream",
     "text": [
      "[[ 0.65627331 -1.45462024  0.6477527  ...,  1.15379238  0.26632708\n",
      "   0.46562293]\n",
      " [-0.73828822 -0.25190377 -0.19740073 ...,  0.55967784  1.02986324\n",
      "  -0.58706069]\n",
      " [ 1.07481205  0.66908216 -1.77047682 ..., -0.42017588  0.42465565\n",
      "   1.44254375]\n",
      " ..., \n",
      " [-0.28030655 -2.72346044  0.2181398  ...,  1.61596227  0.48724866\n",
      "  -0.30890179]\n",
      " [ 0.15722509  1.12025201  0.57816344 ..., -0.76900393  1.21038198\n",
      "   0.42087105]\n",
      " [-0.47549564 -0.33919019  0.04131202 ...,  0.5114727   0.41425341\n",
      "   0.47400281]]\n"
     ]
    }
   ],
   "source": [
    "print(w1.eval(session=sess))"
   ]
  },
  {
   "cell_type": "code",
   "execution_count": 23,
   "metadata": {
    "collapsed": true
   },
   "outputs": [],
   "source": [
    "merged_summaries = tf.summary.merge_all()"
   ]
  },
  {
   "cell_type": "markdown",
   "metadata": {},
   "source": [
    "When a session runs, input values are passed on through *feed_dict* to graph."
   ]
  },
  {
   "cell_type": "code",
   "execution_count": 24,
   "metadata": {
    "collapsed": true
   },
   "outputs": [],
   "source": [
    "epochs = 3\n",
    "batch_size = 100\n",
    "batchs = 2000//100"
   ]
  },
  {
   "cell_type": "code",
   "execution_count": 25,
   "metadata": {
    "collapsed": true
   },
   "outputs": [],
   "source": [
    "for epoch in range(epochs):\n",
    "    for batch in range(batchs):\n",
    "        train_step.run(\n",
    "            session=sess,\n",
    "            feed_dict={\n",
    "                input_pixels: pixels.iloc[batch*batch_size:(batch+1)*batch_size], \n",
    "                train_labels: labels.iloc[batch*batch_size:(batch+1)*batch_size]\n",
    "            }\n",
    "        )\n",
    "        summaries = sess.run(\n",
    "            merged_summaries,\n",
    "            feed_dict={\n",
    "                input_pixels: pixels.iloc[batch*batch_size:(batch+1)*batch_size], \n",
    "                train_labels: labels.iloc[batch*batch_size:(batch+1)*batch_size]\n",
    "            }\n",
    "        )\n",
    "        writer.add_summary(summaries, epoch*batch_size+batch)"
   ]
  },
  {
   "cell_type": "code",
   "execution_count": 26,
   "metadata": {},
   "outputs": [
    {
     "data": {
      "text/plain": [
       "0.101"
      ]
     },
     "execution_count": 26,
     "metadata": {},
     "output_type": "execute_result"
    }
   ],
   "source": [
    "sess.run(accuracy, feed_dict={input_pixels: pixels, train_labels: labels})"
   ]
  },
  {
   "cell_type": "code",
   "execution_count": 27,
   "metadata": {
    "collapsed": true
   },
   "outputs": [],
   "source": [
    "sess.close()"
   ]
  },
  {
   "cell_type": "code",
   "execution_count": null,
   "metadata": {
    "collapsed": true
   },
   "outputs": [],
   "source": []
  }
 ],
 "metadata": {
  "kernelspec": {
   "display_name": "Python 3",
   "language": "python",
   "name": "python3"
  },
  "language_info": {
   "codemirror_mode": {
    "name": "ipython",
    "version": 3
   },
   "file_extension": ".py",
   "mimetype": "text/x-python",
   "name": "python",
   "nbconvert_exporter": "python",
   "pygments_lexer": "ipython3",
   "version": "3.6.1"
  }
 },
 "nbformat": 4,
 "nbformat_minor": 2
}
